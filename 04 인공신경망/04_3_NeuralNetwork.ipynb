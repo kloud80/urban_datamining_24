{
  "nbformat": 4,
  "nbformat_minor": 0,
  "metadata": {
    "colab": {
      "provenance": []
    },
    "kernelspec": {
      "name": "python3",
      "display_name": "Python 3"
    },
    "language_info": {
      "name": "python"
    }
  },
  "cells": [
    {
      "cell_type": "code",
      "source": [
        "import pandas as pd\n",
        "import numpy as np\n",
        "import geopandas as gpd\n",
        "import os, re\n",
        "from glob import glob\n",
        "from tqdm import tqdm\n",
        "import time\n",
        "import matplotlib as mpl\n",
        "import matplotlib.pyplot as plt"
      ],
      "metadata": {
        "id": "Bq_MnH6jpCX1"
      },
      "execution_count": null,
      "outputs": []
    },
    {
      "cell_type": "code",
      "source": [
        "!wget \"https://hycms.hanyang.ac.kr/index.php?module=xn_media_content2013&act=dispXn_media_content2013DownloadContent&content_id=66ef786538650\" -O \"data.zip\"\n",
        "!unzip  -O cp949 \"data.zip\" -d \"data\""
      ],
      "metadata": {
        "id": "occuTGxlo0Rl"
      },
      "execution_count": null,
      "outputs": []
    },
    {
      "cell_type": "code",
      "source": [
        "sdot_data_total = pd.read_csv('data/sdot학습데이터.csv', sep='|', encoding='cp949')\n",
        "\"\"\"전체 Sdot 평균기온과의 온도차 평균이 높으면 1, 낮으면 0으로 종속변수 생성\"\"\"\n",
        "sdot_data_total['종속'] = sdot_data_total['온도차이'].apply(lambda x: 0 if x < 0 else 1)\n",
        "\n",
        "sdot_data_total.columns.values"
      ],
      "metadata": {
        "id": "HZO1FnyAo4Jp"
      },
      "execution_count": null,
      "outputs": []
    },
    {
      "cell_type": "code",
      "source": [
        "\n",
        "\"\"\" 모든 입력변수를 이용한 분석\"\"\"\n",
        "tmp = sdot_data_total\n",
        "\n",
        "x_column_name = tmp.columns.drop(['종속', '시리얼번호', '온도차이', '온도비율차이'])\n",
        "y_column_name = \"온도차이\"\n",
        "x = np.array(tmp[x_column_name].fillna(0).astype('float').values)\n",
        "y = np.array(tmp['종속'].values)\n",
        "y = y.reshape(y.shape[0], 1)\n",
        "\n",
        "print(x.shape)\n",
        "print(y.shape)"
      ],
      "metadata": {
        "id": "hxFMZRNPpL8Z"
      },
      "execution_count": null,
      "outputs": []
    },
    {
      "cell_type": "code",
      "source": [
        "# prompt:  keras를 이용해 denselayer를 구성, 인풋 110개, 인풋노드 노멀라이징하고, 하든레이어가 5개층 각각 220, 440, 220, 110, 20개의 히든노드로 구성, 아웃풋 1개(0 or 1) 학습하는 코드 생성,\n",
        "\n",
        "from tensorflow import keras\n",
        "from tensorflow.keras import layers\n",
        "from tensorflow.keras.layers import BatchNormalization\n",
        "\n",
        "model = keras.Sequential([\n",
        "    layers.Dense(220, activation='relu', input_shape=(110,)),\n",
        "    BatchNormalization(),  # Input layer normalization\n",
        "    layers.Dense(440, activation='relu'),\n",
        "    layers.Dense(220, activation='relu'),\n",
        "    layers.Dense(110, activation='relu'),\n",
        "    layers.Dense(20, activation='relu'),\n",
        "    layers.Dense(1, activation='sigmoid')\n",
        "])\n",
        "\n",
        "model.compile(optimizer='adam',\n",
        "              loss='binary_crossentropy',\n",
        "              metrics=['accuracy'])\n",
        "\n",
        "model.summary()\n"
      ],
      "metadata": {
        "id": "nhHPlqs6xaTa"
      },
      "execution_count": null,
      "outputs": []
    },
    {
      "cell_type": "code",
      "source": [
        "\n",
        "history = model.fit(x, y, epochs=100)\n",
        "\n",
        "plt.plot(history.history['accuracy'])\n",
        "plt.title('Model accuracy')\n",
        "plt.ylabel('Accuracy')\n",
        "plt.xlabel('Epoch')\n",
        "plt.legend(['Train'], loc='upper left')\n",
        "plt.show()\n",
        "\n",
        "# while max(history.history['accuracy']) < 0.9:\n",
        "#   history = model.fit(x, y, epochs=10)\n",
        "#   plt.plot(history.history['accuracy'])\n",
        "#   plt.title('Model accuracy')\n",
        "#   plt.ylabel('Accuracy')\n",
        "#   plt.xlabel('Epoch')\n",
        "#   plt.legend(['Train'], loc='upper left')\n",
        "#   plt.show()\n",
        "\n"
      ],
      "metadata": {
        "id": "Kej3LQfGqJtM"
      },
      "execution_count": null,
      "outputs": []
    },
    {
      "cell_type": "code",
      "source": [
        "y_predict = model.predict(x)\n"
      ],
      "metadata": {
        "id": "eJOMaYU-uCBH"
      },
      "execution_count": null,
      "outputs": []
    },
    {
      "cell_type": "code",
      "source": [
        "# prompt: y_predict 분포 출력\n",
        "\n",
        "import matplotlib.pyplot as plt\n",
        "\n",
        "plt.hist(y_predict, bins=20)\n",
        "plt.xlabel('Predicted Value')\n",
        "plt.ylabel('Frequency')\n",
        "plt.title('Distribution of y_predict')\n",
        "plt.show()\n"
      ],
      "metadata": {
        "id": "xejYMuwYzjra"
      },
      "execution_count": null,
      "outputs": []
    },
    {
      "cell_type": "code",
      "source": [
        "# prompt: y_predict가 0.5 보다 작으면 0으로 0.5보다 크면 1로 변경\n",
        "\n",
        "y_predict_binary = [0 if val < 0.5 else 1 for val in y_predict]"
      ],
      "metadata": {
        "id": "99hvJiVzzq7K"
      },
      "execution_count": null,
      "outputs": []
    },
    {
      "cell_type": "code",
      "source": [
        "# prompt: y_predict_binary와 y를 비교해서 true false positive negative 테이블을 표 모양으로 생성하고, precision, recall, accuracy, f1score를 출력\n",
        "\n",
        "from sklearn.metrics import confusion_matrix, precision_score, recall_score, accuracy_score, f1_score\n",
        "\n",
        "# Confusion Matrix 계산\n",
        "cm = confusion_matrix(y, y_predict_binary)\n",
        "\n",
        "# DataFrame으로 표 형태로 만들기\n",
        "cm_df = pd.DataFrame(cm,\n",
        "                     index=['Actual Negative', 'Actual Positive'],\n",
        "                     columns=['Predicted Negative', 'Predicted Positive'])\n",
        "\n",
        "print(\"Confusion Matrix:\")\n",
        "print(cm_df)\n",
        "\n",
        "# Precision, Recall, Accuracy, F1-Score 계산\n",
        "precision = precision_score(y, y_predict_binary)\n",
        "recall = recall_score(y, y_predict_binary)\n",
        "accuracy = accuracy_score(y, y_predict_binary)\n",
        "f1 = f1_score(y, y_predict_binary)\n",
        "\n",
        "print(\"\\nMetrics:\")\n",
        "print(f\"Precision: {precision:.4f}\")\n",
        "print(f\"Recall: {recall:.4f}\")\n",
        "print(f\"Accuracy: {accuracy:.4f}\")\n",
        "print(f\"F1-Score: {f1:.4f}\")\n"
      ],
      "metadata": {
        "id": "AtxTdKH518ua"
      },
      "execution_count": null,
      "outputs": []
    },
    {
      "cell_type": "code",
      "source": [
        "\n",
        "\n",
        "\"\"\" Tree 모형 분석을 위하 주변 도로 면적비율과, 대지면적 비율 만 불러옴 (도=X, 대=y)\"\"\"\n",
        "tmp = sdot_data_total[['도', '대', '종속']]\n",
        "\n",
        "\"\"\" plot으로 고온그룹과 저온그룹을 2차원에 표시\"\"\"\n",
        "x1 = np.array(tmp[tmp['종속'] == 1][['도', '대']].fillna(0).astype('float').values)\n",
        "y1 = np.array(tmp[tmp['종속'] == 1]['종속'].values)\n",
        "y1 = y1.reshape(y1.shape[0], 1)\n",
        "\n",
        "x2 = np.array(tmp[tmp['종속'] == 0][['도', '대']].fillna(0).astype('float').values)\n",
        "y2 = np.array(tmp[tmp['종속'] == 0]['종속'].values)\n",
        "y2 = y2.reshape(y2.shape[0], 1)\n",
        "\n",
        "plt.figure(figsize=(9, 9))\n",
        "plt.scatter(x=x1[:, 0], y=x1[:, 1], marker='x', color='red', label='High Temperature')\n",
        "plt.scatter(x=x2[:, 0], y=x2[:, 1], marker='o', color='blue', label='Low Temperature')\n",
        "plt.legend(fontsize=10)\n",
        "plt.show()\n",
        ""
      ],
      "metadata": {
        "id": "4gbl4yOGs2fZ"
      },
      "execution_count": null,
      "outputs": []
    },
    {
      "cell_type": "code",
      "source": [
        "correct_indices = [i for i, (pred, actual) in enumerate(zip(y_predict_binary, y)) if pred == actual]\n",
        "\n",
        "\"\"\" 맞춘 데이터\"\"\"\n",
        "x1 = np.array(tmp[(tmp['종속'] == 1) & (tmp.index.isin(correct_indices))][['도', '대']].fillna(0).astype('float').values)\n",
        "y1 = np.array(tmp[(tmp['종속'] == 1) & (tmp.index.isin(correct_indices))]['종속'].values)\n",
        "y1 = y1.reshape(y1.shape[0], 1)\n",
        "\n",
        "x2 = np.array(tmp[(tmp['종속'] == 0) & (tmp.index.isin(correct_indices))][['도', '대']].fillna(0).astype('float').values)\n",
        "y2 = np.array(tmp[(tmp['종속'] == 0) & (tmp.index.isin(correct_indices))]['종속'].values)\n",
        "y2 = y2.reshape(y2.shape[0], 1)\n",
        "\n",
        "\n",
        "\"\"\" 못 맞춘 데이터 \"\"\"\n",
        "x3 = np.array(tmp[(tmp['종속'] == 1) & ~(tmp.index.isin(correct_indices))][['도', '대']].fillna(0).astype('float').values)\n",
        "y3 = np.array(tmp[(tmp['종속'] == 1) & ~(tmp.index.isin(correct_indices))]['종속'].values)\n",
        "y3 = y3.reshape(y3.shape[0], 1)\n",
        "\n",
        "x4 = np.array(tmp[(tmp['종속'] == 0) & ~(tmp.index.isin(correct_indices))][['도', '대']].fillna(0).astype('float').values)\n",
        "y4 = np.array(tmp[(tmp['종속'] == 0) & ~(tmp.index.isin(correct_indices))]['종속'].values)\n",
        "y4 = y4.reshape(y4.shape[0], 1)\n",
        "\n",
        "plt.figure(figsize=(9, 9))\n",
        "plt.scatter(x=x1[:, 0], y=x1[:, 1], marker='x', color='red', label='High Temperature', alpha=0.3, s=3)\n",
        "plt.scatter(x=x2[:, 0], y=x2[:, 1], marker='o', color='blue', label='Low Temperature', alpha=0.3, s=3)\n",
        "\n",
        "plt.scatter(x=x3[:, 0], y=x3[:, 1], marker='x', color='red', label='High Temperature')\n",
        "plt.scatter(x=x4[:, 0], y=x4[:, 1], marker='o', color='blue', label='Low Temperature')\n",
        "\n",
        "plt.legend(fontsize=10)\n",
        "plt.show()"
      ],
      "metadata": {
        "id": "zpr1feHtv9Mv"
      },
      "execution_count": null,
      "outputs": []
    }
  ]
}