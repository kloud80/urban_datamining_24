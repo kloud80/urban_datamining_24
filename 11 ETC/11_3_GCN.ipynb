{
  "nbformat": 4,
  "nbformat_minor": 0,
  "metadata": {
    "colab": {
      "provenance": []
    },
    "kernelspec": {
      "name": "python3",
      "display_name": "Python 3"
    },
    "language_info": {
      "name": "python"
    }
  },
  "cells": [
    {
      "cell_type": "code",
      "execution_count": null,
      "metadata": {
        "id": "jD_OOLNY-6dr"
      },
      "outputs": [],
      "source": [
        "!pip install torch torchvision torchaudio torch-geometric torch-sparse torch-scatter torch-cluster -f https://data.pyg.org/whl/torch-2.0.1+cu117.html\n",
        "!pip install pandas scikit-learn\n"
      ]
    },
    {
      "cell_type": "code",
      "source": [
        "import torch\n",
        "from torch_geometric.data import Data\n",
        "from torch_geometric.nn import GCNConv\n",
        "import numpy as np\n",
        "\n",
        "# Example user-item interaction data in [user_code, item_code] format\n",
        "user_item_pairs = [\n",
        "    [0, 0],  # User 0 interacts with Item 0\n",
        "    [0, 2],  # User 0 interacts with Item 2\n",
        "    [1, 0],  # User 1 interacts with Item 1\n",
        "    [1, 1],  # User 1 interacts with Item 1\n",
        "    [2, 2],  # User 2 interacts with Item 2\n",
        "    [2, 1],  # User 2 interacts with Item 1\n",
        "    [3, 3],  # User 3 interacts with Item 3\n",
        "    [3, 1]   # User 3 interacts with Item 1\n",
        "]\n",
        "\n",
        "user = [\"tom\", \"james\", \"john\", \"jack\"]\n",
        "item = [\"apple\", \"banana\", \"snack\", \"liquid\"]\n",
        "\n",
        "# Convert user-item pairs to edge_index format\n",
        "# Shift item indices by the number of users to ensure unique node indices\n",
        "num_users = 4\n",
        "num_items = 4\n",
        "\n",
        "edges = torch.tensor([\n",
        "    [pair[0] for pair in user_item_pairs],  # User indices\n",
        "    [pair[1] + num_users for pair in user_item_pairs]  # Item indices (shifted)\n",
        "], dtype=torch.long)\n",
        "\n",
        "# Features for users and items\n",
        "user_features = torch.eye(num_users, dtype=torch.float)\n",
        "item_features = torch.eye(num_items, dtype=torch.float)\n",
        "node_features = torch.cat([user_features, item_features], dim=0)\n",
        "\n",
        "# Create PyTorch Geometric Data object\n",
        "data = Data(x=node_features, edge_index=edges)\n",
        "\n"
      ],
      "metadata": {
        "id": "JHsno1QiPa6B"
      },
      "execution_count": null,
      "outputs": []
    },
    {
      "cell_type": "code",
      "source": [
        "\n",
        "# Assuming 'data' is your Geometric Data object\n",
        "# and it has attributes 'edge_index' and optionally 'edge_attr'\n",
        "\n",
        "# Create a NetworkX graph\n",
        "graph = nx.Graph()\n",
        "\n",
        "# Add edges based on edge_index\n",
        "for i in range(data.edge_index.shape[1]):\n",
        "    source = data.edge_index[0, i].item()\n",
        "    target = data.edge_index[1, i].item()\n",
        "    graph.add_edge(source, target)\n",
        "\n",
        "    # Add edge attributes if available and not None\n",
        "    if hasattr(data, 'edge_attr') and data.edge_attr is not None:  # Check if edge_attr exists and is not None\n",
        "        try:  # Try to access the edge attribute, handling potential IndexError\n",
        "            edge_weight = data.edge_attr[i, 0].item()  # Assuming a single edge attribute\n",
        "            graph[source][target]['weight'] = edge_weight\n",
        "        except IndexError:\n",
        "            print(f\"Warning: No edge attribute found for edge {i}. Skipping...\")\n",
        "\n",
        "\n",
        "# Draw the graph\n",
        "plt.figure(figsize=(8, 6))\n",
        "pos = nx.spring_layout(graph)  # You can choose a different layout if needed\n",
        "\n",
        "# Draw nodes and edges\n",
        "node_labels = {}\n",
        "for node in graph.nodes:\n",
        "    node_labels[node] = get_node_label(node)\n",
        "\n",
        "nx.draw(graph, pos, with_labels=True, labels=node_labels, node_size=500, node_color='skyblue')\n",
        "\n",
        "\n",
        "def get_node_label(node):\n",
        "    if node < num_users:\n",
        "        return user[node]\n",
        "    else:\n",
        "        return item[node - num_users]\n",
        "\n",
        "# Draw edge labels with weights (if available)\n",
        "if hasattr(data, 'edge_attr') and data.edge_attr is not None:  # Check if edge_attr exists and is not None\n",
        "    edge_labels = nx.get_edge_attributes(graph, 'weight')\n",
        "    nx.draw_networkx_edge_labels(graph, pos, edge_labels=edge_labels)\n",
        "\n",
        "plt.title(\"Geometric Data Visualization\")\n",
        "plt.show()"
      ],
      "metadata": {
        "id": "cV5mg107SY7g"
      },
      "execution_count": null,
      "outputs": []
    },
    {
      "cell_type": "code",
      "source": [
        "# Labels (optional, for supervised training; here we use dummy labels)\n",
        "labels = torch.randint(0, 2, (num_users + num_items,), dtype=torch.long)\n"
      ],
      "metadata": {
        "id": "VhJy1F1HPdk4"
      },
      "execution_count": null,
      "outputs": []
    },
    {
      "cell_type": "code",
      "source": [
        "\n",
        "# Create labels based on user-item interaction patterns\n",
        "labels = torch.zeros(num_users + num_items, dtype=torch.long)\n",
        "\n",
        "# Example: Label users who interacted with item 1 as 1, others as 0\n",
        "# You can modify this logic to create more meaningful labels based on your specific needs.\n",
        "for i in range(len(user_item_pairs)):\n",
        "  user_index = user_item_pairs[i][0]\n",
        "  item_index = user_item_pairs[i][1]\n",
        "  if item_index == 1:  #Check if item index is 1\n",
        "      labels[user_index] = 1\n",
        "\n",
        "# Example 2: Label items based on interactions\n",
        "#  Item with more interactions gets higher label (or binary 1/0 based on interaction threshold)\n",
        "interaction_counts = {}\n",
        "for user_index, item_index in user_item_pairs:\n",
        "    item_node = item_index + num_users\n",
        "    interaction_counts[item_node] = interaction_counts.get(item_node, 0) + 1\n",
        "\n",
        "for item_node, count in interaction_counts.items():\n",
        "    labels[item_node] = 1 if count >= 2 else 0 # Example threshold\n",
        "\n",
        "labels"
      ],
      "metadata": {
        "id": "_1d0z1MfVSoC"
      },
      "execution_count": null,
      "outputs": []
    },
    {
      "cell_type": "code",
      "source": [
        "\n",
        "# GCN Model definition\n",
        "class GCN(torch.nn.Module):\n",
        "    def __init__(self, in_channels, hidden_channels, out_channels):\n",
        "        super(GCN, self).__init__()\n",
        "        self.conv1 = GCNConv(in_channels, hidden_channels)\n",
        "        self.conv2 = GCNConv(hidden_channels, out_channels)\n",
        "\n",
        "    def forward(self, x, edge_index):\n",
        "        x = self.conv1(x, edge_index)\n",
        "        x = torch.relu(x)\n",
        "        x = self.conv2(x, edge_index)\n",
        "        return x\n",
        "\n",
        "# Initialize the model, optimizer, and loss function\n",
        "model = GCN(in_channels=data.x.shape[1], hidden_channels=8, out_channels=4)\n",
        "optimizer = torch.optim.Adam(model.parameters(), lr=0.01)\n",
        "criterion = torch.nn.CrossEntropyLoss()\n",
        "\n",
        "model"
      ],
      "metadata": {
        "id": "0UYj1HtWVPGg"
      },
      "execution_count": null,
      "outputs": []
    },
    {
      "cell_type": "code",
      "source": [
        "data.x"
      ],
      "metadata": {
        "id": "sdR1OuFXQdiw"
      },
      "execution_count": null,
      "outputs": []
    },
    {
      "cell_type": "code",
      "source": [
        "data.edge_index"
      ],
      "metadata": {
        "id": "AyrVM0dXRR3T"
      },
      "execution_count": null,
      "outputs": []
    },
    {
      "cell_type": "code",
      "source": [
        "\n",
        "# Training loop\n",
        "for epoch in range(50):\n",
        "    model.train()\n",
        "    optimizer.zero_grad()\n",
        "    out = model(data.x, data.edge_index)\n",
        "    loss = criterion(out, labels)\n",
        "    loss.backward()\n",
        "    optimizer.step()\n",
        "    print(f\"Epoch {epoch+1}, Loss: {loss.item()}\")\n",
        "\n"
      ],
      "metadata": {
        "id": "Yk6royq6QOpv"
      },
      "execution_count": null,
      "outputs": []
    },
    {
      "cell_type": "code",
      "source": [
        "# Extract user embeddings\n",
        "model.eval()\n",
        "with torch.no_grad():\n",
        "    embeddings = model(data.x, data.edge_index)\n",
        "\n",
        "user_embeddings = embeddings[:num_users]  # First rows correspond to users\n",
        "item_embeddings = embeddings[num_users:]  # Remaining rows correspond to items\n",
        "\n",
        "print(user_embeddings)\n",
        "\n",
        "print(item_embeddings)"
      ],
      "metadata": {
        "id": "dFRe_R8jQQuS"
      },
      "execution_count": null,
      "outputs": []
    },
    {
      "cell_type": "code",
      "source": [
        "# Functions to find similar users and preferred items\n",
        "def find_similar_users(user_id, user_embeddings, top_k=2):\n",
        "    target_embedding = user_embeddings[user_id]\n",
        "    similarities = torch.matmul(user_embeddings, target_embedding)\n",
        "    _, indices = torch.topk(similarities, top_k + 1)  # +1 to exclude self\n",
        "    return indices[indices != user_id]  # Exclude the user itself\n",
        "\n",
        "def find_preferred_items(user_id, user_embeddings, item_embeddings, top_k=2):\n",
        "    user_vector = user_embeddings[user_id]\n",
        "    scores = torch.matmul(item_embeddings, user_vector)\n",
        "    _, indices = torch.topk(scores, top_k)\n",
        "    return indices\n",
        "\n",
        "# Example: Find similar users and preferred items for User 0\n",
        "similar_users = find_similar_users(1, user_embeddings)\n",
        "preferred_items = find_preferred_items(0, user_embeddings, item_embeddings)\n",
        "\n",
        "\n",
        "for i in similar_users:\n",
        "    print(f\"Similar user to user2: {user[i]}\")\n",
        "\n",
        "for i in preferred_items:\n",
        "    print(f\"User1's preferred item: {item[i]}\")\n"
      ],
      "metadata": {
        "id": "s01eh-fZRmgG"
      },
      "execution_count": null,
      "outputs": []
    }
  ]
}